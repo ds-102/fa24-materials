{
 "cells": [
  {
   "cell_type": "code",
   "execution_count": 11,
   "id": "45d14804-0648-423d-bd2d-a381784488b4",
   "metadata": {},
   "outputs": [],
   "source": [
    "import numpy as np\n",
    "import pandas as pd\n",
    "\n",
    "%matplotlib inline\n",
    "import matplotlib.pyplot as plt\n",
    "import seaborn as sns\n",
    "sns.set()\n",
    "\n",
    "import pymc as pm\n",
    "import arviz as az"
   ]
  },
  {
   "cell_type": "code",
   "execution_count": 12,
   "id": "9fe09e79-6374-4a21-9c10-f14340cc49c9",
   "metadata": {},
   "outputs": [],
   "source": [
    "import numpy as np \n",
    "\n",
    "w = 15\n",
    "np.random.seed(10)\n",
    "\n",
    "y = np.random.uniform(low = 0, high = w , size = 100)"
   ]
  },
  {
   "cell_type": "code",
   "execution_count": 13,
   "id": "250ae8e8-5ddb-479a-b9bf-6f5ef38cb9a6",
   "metadata": {},
   "outputs": [],
   "source": [
    "x = np.linspace(8,20,90)"
   ]
  },
  {
   "cell_type": "code",
   "execution_count": 23,
   "id": "324359cd-fe71-43e5-8d09-6567dea672a0",
   "metadata": {},
   "outputs": [
    {
     "data": {
      "image/png": "[encoded data removed]",
      "text/plain": [
       "<Figure size 640x480 with 1 Axes>"
      ]
     },
     "metadata": {},
     "output_type": "display_data"
    }
   ],
   "source": [
    "np.random.seed(10)\n",
    "alpha = 1\n",
    "beta_1 = 10\n",
    "observation_days = [1, 10, 50, 100]\n",
    "\n",
    "def plot_posterior_distributions(days, observations):\n",
    "    for day in days:\n",
    "        a_updated = alpha + day\n",
    "        b_updated = max(beta_1, max(observations[:day]))\n",
    "    \n",
    "        x = np.linspace(8, 20, 90)\n",
    "    \n",
    "        pdf = a_updated * (b_updated ** a_updated) / (x ** (a_updated + 1))\n",
    "        pdf[x < b_updated] = 0\n",
    "        \n",
    "    plt.plot(x, pdf, label=day)\n",
    "    \n",
    "    plt.xlabel('Beetle Size')\n",
    "    plt.ylabel('Density')\n",
    "    plt.title('Posterior')\n",
    "    plt.legend()\n",
    "    plt.show()\n",
    "    return pdf\n",
    "pdf = plot_posterior_distributions(observation_days, y)"
   ]
  },
  {
   "cell_type": "code",
   "execution_count": 25,
   "id": "25df65d5-988c-4de4-9e0f-75e5c2aceb25",
   "metadata": {},
   "outputs": [
    {
     "data": {
      "text/plain": [
       "array([ 8.        ,  8.13483146,  8.26966292,  8.40449438,  8.53932584,\n",
       "        8.6741573 ,  8.80898876,  8.94382022,  9.07865169,  9.21348315,\n",
       "        9.34831461,  9.48314607,  9.61797753,  9.75280899,  9.88764045,\n",
       "       10.02247191, 10.15730337, 10.29213483, 10.42696629, 10.56179775,\n",
       "       10.69662921, 10.83146067, 10.96629213, 11.1011236 , 11.23595506,\n",
       "       11.37078652, 11.50561798, 11.64044944, 11.7752809 , 11.91011236,\n",
       "       12.04494382, 12.17977528, 12.31460674, 12.4494382 , 12.58426966,\n",
       "       12.71910112, 12.85393258, 12.98876404, 13.12359551, 13.25842697,\n",
       "       13.39325843, 13.52808989, 13.66292135, 13.79775281, 13.93258427,\n",
       "       14.06741573, 14.20224719, 14.33707865, 14.47191011, 14.60674157,\n",
       "       14.74157303, 14.87640449, 15.01123596, 15.14606742, 15.28089888,\n",
       "       15.41573034, 15.5505618 , 15.68539326, 15.82022472, 15.95505618,\n",
       "       16.08988764, 16.2247191 , 16.35955056, 16.49438202, 16.62921348,\n",
       "       16.76404494, 16.8988764 , 17.03370787, 17.16853933, 17.30337079,\n",
       "       17.43820225, 17.57303371, 17.70786517, 17.84269663, 17.97752809,\n",
       "       18.11235955, 18.24719101, 18.38202247, 18.51685393, 18.65168539,\n",
       "       18.78651685, 18.92134831, 19.05617978, 19.19101124, 19.3258427 ,\n",
       "       19.46067416, 19.59550562, 19.73033708, 19.86516854, 20.        ])"
      ]
     },
     "execution_count": 25,
     "metadata": {},
     "output_type": "execute_result"
    }
   ],
   "source": [
    "x = np.linspace(8, 20, 90)\n",
    "x"
   ]
  },
  {
   "cell_type": "code",
   "execution_count": 22,
   "id": "ee889eef-39e1-4966-8a69-5a7e9751d17a",
   "metadata": {},
   "outputs": [
    {
     "data": {
      "text/plain": [
       "14.814382123528084"
      ]
     },
     "execution_count": 22,
     "metadata": {},
     "output_type": "execute_result"
    }
   ],
   "source": [
    "b_updated = max(beta_1, max(y[:100]))\n",
    "b_updated"
   ]
  },
  {
   "cell_type": "code",
   "execution_count": 26,
   "id": "1f002927-54dd-4942-b61a-f5c674d3cacc",
   "metadata": {},
   "outputs": [],
   "source": [
    "pdf[x < b_updated] = 0"
   ]
  },
  {
   "cell_type": "code",
   "execution_count": 27,
   "id": "c484caed-945e-4285-9582-6fcc16ebb92d",
   "metadata": {},
   "outputs": [
    {
     "data": {
      "text/plain": [
       "array([0.00000000e+00, 0.00000000e+00, 0.00000000e+00, 0.00000000e+00,\n",
       "       0.00000000e+00, 0.00000000e+00, 0.00000000e+00, 0.00000000e+00,\n",
       "       0.00000000e+00, 0.00000000e+00, 0.00000000e+00, 0.00000000e+00,\n",
       "       0.00000000e+00, 0.00000000e+00, 0.00000000e+00, 0.00000000e+00,\n",
       "       0.00000000e+00, 0.00000000e+00, 0.00000000e+00, 0.00000000e+00,\n",
       "       0.00000000e+00, 0.00000000e+00, 0.00000000e+00, 0.00000000e+00,\n",
       "       0.00000000e+00, 0.00000000e+00, 0.00000000e+00, 0.00000000e+00,\n",
       "       0.00000000e+00, 0.00000000e+00, 0.00000000e+00, 0.00000000e+00,\n",
       "       0.00000000e+00, 0.00000000e+00, 0.00000000e+00, 0.00000000e+00,\n",
       "       0.00000000e+00, 0.00000000e+00, 0.00000000e+00, 0.00000000e+00,\n",
       "       0.00000000e+00, 0.00000000e+00, 0.00000000e+00, 0.00000000e+00,\n",
       "       0.00000000e+00, 0.00000000e+00, 0.00000000e+00, 0.00000000e+00,\n",
       "       0.00000000e+00, 0.00000000e+00, 0.00000000e+00, 4.45210484e+00,\n",
       "       1.77370395e+00, 7.12477016e-01, 2.88516868e-01, 1.17766157e-01,\n",
       "       4.84460832e-02, 2.00829357e-02, 8.38820572e-03, 3.52962638e-03,\n",
       "       1.49607040e-03, 6.38684172e-04, 2.74586775e-04, 1.18872718e-04,\n",
       "       5.18137342e-05, 2.27363059e-05, 1.00429330e-05, 4.46499864e-06,\n",
       "       1.99782632e-06, 8.99552134e-07, 4.07553603e-07, 1.85776807e-07,\n",
       "       8.51934335e-08, 3.92996840e-08, 1.82348264e-08, 8.50953917e-09,\n",
       "       3.99360698e-09, 1.88470478e-09, 8.94344237e-10, 4.26692376e-10,\n",
       "       2.04663316e-10, 9.86840518e-11, 4.78303298e-11, 2.33011575e-11,\n",
       "       1.14087557e-11, 5.61377911e-12, 2.77586821e-12, 1.37923949e-12,\n",
       "       6.88571866e-13, 3.45381943e-13])"
      ]
     },
     "execution_count": 27,
     "metadata": {},
     "output_type": "execute_result"
    }
   ],
   "source": [
    "pdf"
   ]
  },
  {
   "cell_type": "markdown",
   "id": "3254e544-5dc9-4cac-902c-4e072c2ff2cd",
   "metadata": {},
   "source": [
    "# Question 3\n",
    "This notebook contains some starter code for Question 3 of Homework 2. This is not the same as the skeleton code that you see in the lab assignments. You may (and should) add cells of your own code as you work through Question 3."
   ]
  },
  {
   "cell_type": "code",
   "execution_count": null,
   "id": "633fcdc5-22f8-4559-aeec-4f7d0d3082af",
   "metadata": {},
   "outputs": [],
   "source": [
    "# Your code to load the data goes here\n",
    "dcd_full = ...\n",
    "\n",
    "# Do not change this line\n",
    "states_to_use = ('California', 'District of Columbia', 'Nevada', 'Oregon', 'Texas')\n",
    "\n",
    "# Your code to filter down to the states above goes here\n",
    "dcd = ...\n"
   ]
  },
  {
   "cell_type": "code",
   "execution_count": null,
   "id": "4cac259b-885b-4031-a890-1d323a99a22d",
   "metadata": {},
   "outputs": [],
   "source": [
    "# This line gives the state index corresponding to each row\n",
    "state_indices_full = dcd_full['state_name'].astype('category').cat.codes\n",
    "state_indices = dcd['state_name'].astype('category').cat.codes"
   ]
  },
  {
   "cell_type": "code",
   "execution_count": null,
   "id": "4de82c1f-0bc6-48d6-9653-3abf57b823ba",
   "metadata": {},
   "outputs": [],
   "source": [
    "# This cell shows you a very simple example of \"fancy indexing\"\n",
    "array_of_values = np.array([42, 672, 9001])\n",
    "array_of_indices = np.array([1, 1, 0, 2, 0, 0])\n",
    "\n",
    "array_of_values[array_of_indices]"
   ]
  },
  {
   "cell_type": "code",
   "execution_count": null,
   "id": "1674c3bd-44f4-4cc5-b1f9-59d76251d190",
   "metadata": {},
   "outputs": [],
   "source": [
    "# This cell shows you an example of how to use \"fancy indexing\" with the state indices (above)\n",
    "# to take an array with one item per state and get the corresponding item for each district\n",
    "# You don't have to fill anything in here, but understanding it will help you later!\n",
    "\n",
    "# An array with the population of each of our five states of interest (CA, DC, NV, OR, TX)\n",
    "state_population_2020 = np.array([39538223, 689545, 3104614, 4237256, 29145505])\n",
    "state_pop_for_county = state_population_2020[state_indices]\n",
    "dcd.loc[:, 'state_pop'] = state_pop_for_county\n",
    "\n",
    "# The state_pop column now contains the population for each district's state\n",
    "dcd.loc[:, ['state_name', 'district', 'fundinggap', 'state_pop']]"
   ]
  },
  {
   "cell_type": "code",
   "execution_count": null,
   "id": "ea3ff1fd-bcb3-4db7-97c6-dea17f5f777f",
   "metadata": {},
   "outputs": [],
   "source": [
    "..."
   ]
  },
  {
   "cell_type": "code",
   "execution_count": null,
   "id": "9f0c6599-6ae6-497d-b67d-0b407d8f382f",
   "metadata": {},
   "outputs": [],
   "source": [
    "# You don't have to change \n",
    "def plot_state_posterior_means(trace, state_names, **kwargs):\n",
    "    \"\"\"Shows distribution of posterior means from a PyMC trace.\n",
    "\n",
    "    Args:\n",
    "        trace: the result of pm.sample(...).\n",
    "            Assumes the state-level means have been called 'mu'\n",
    "        state_names: a list or array of state names\n",
    "        **kwargs: any extra arguments are passed in to sns.histplot\n",
    "    \"\"\"\n",
    "    num_state = len(state_names)\n",
    "    mu_array = trace.posterior['mu'].values.reshape(-1, num_states)\n",
    "    means_wide = pd.DataFrame(mu_array, columns=state_names)\n",
    "    means_long = pd.melt(means_wide, var_name='State', value_name='Posterior mean')\n",
    "    sns.histplot(means_long, x='Posterior mean', hue='State', bins=np.linspace(-5000, 4000, 500))"
   ]
  },
  {
   "cell_type": "code",
   "execution_count": null,
   "id": "51ccd553-2b3b-42dd-9257-01c57a5d7f96",
   "metadata": {},
   "outputs": [],
   "source": [
    "# If implemented correctly, your solutions to 3(d), 3(e), 3(g), and 3(h) shouldn't take more than one minute to run.\n",
    "# Hint: your solution should use the state_indices array defined earlier!\n",
    "num_states = 5\n",
    "with ...:\n",
    "    # Your code for the random variables goes here\n",
    "    ...\n",
    "    # Don't change this line\n",
    "    trace_d = pm.sample(5, chains=2, tune=100, return_inferencedata=True)\n"
   ]
  },
  {
   "cell_type": "markdown",
   "id": "fdf86bc2-8970-4080-99df-b8f488f68499",
   "metadata": {},
   "source": [
    "Hint: the rows of the `mu` array in the posterior correspond to the five states in the `states_to_use` array, in the same order."
   ]
  },
  {
   "cell_type": "code",
   "execution_count": null,
   "id": "b3ec0b31-21f9-4b8e-aab2-2275d3470b69",
   "metadata": {},
   "outputs": [],
   "source": [
    "plot_state_posterior_means(trace_d, states_to_use)"
   ]
  },
  {
   "cell_type": "code",
   "execution_count": null,
   "id": "15944d7c-c164-4a15-869f-1ef0098861bd",
   "metadata": {},
   "outputs": [],
   "source": [
    "..."
   ]
  }
 ],
 "metadata": {
  "kernelspec": {
   "display_name": "Python 3 (ipykernel)",
   "language": "python",
   "name": "python3"
  },
  "language_info": {
   "codemirror_mode": {
    "name": "ipython",
    "version": 3
   },
   "file_extension": ".py",
   "mimetype": "text/x-python",
   "name": "python",
   "nbconvert_exporter": "python",
   "pygments_lexer": "ipython3",
   "version": "3.11.10"
  }
 },
 "nbformat": 4,
 "nbformat_minor": 5
}
